{
 "cells": [
  {
   "cell_type": "code",
   "execution_count": 1,
   "metadata": {},
   "outputs": [],
   "source": [
    "from pandas import Series, DataFrame\n",
    "\n",
    "import pandas as pd\n",
    "import numpy as np\n",
    "import matplotlib.pyplot as plt\n",
    "import seaborn as sns"
   ]
  },
  {
   "cell_type": "code",
   "execution_count": 2,
   "metadata": {},
   "outputs": [
    {
     "data": {
      "text/html": [
       "<div>\n",
       "<style scoped>\n",
       "    .dataframe tbody tr th:only-of-type {\n",
       "        vertical-align: middle;\n",
       "    }\n",
       "\n",
       "    .dataframe tbody tr th {\n",
       "        vertical-align: top;\n",
       "    }\n",
       "\n",
       "    .dataframe thead th {\n",
       "        text-align: right;\n",
       "    }\n",
       "</style>\n",
       "<table border=\"1\" class=\"dataframe\">\n",
       "  <thead>\n",
       "    <tr style=\"text-align: right;\">\n",
       "      <th></th>\n",
       "      <th>CustomerID</th>\n",
       "      <th>Gender</th>\n",
       "      <th>Age</th>\n",
       "      <th>Annual Income (k$)</th>\n",
       "      <th>Spending Score (1-100)</th>\n",
       "    </tr>\n",
       "  </thead>\n",
       "  <tbody>\n",
       "    <tr>\n",
       "      <th>0</th>\n",
       "      <td>1</td>\n",
       "      <td>Male</td>\n",
       "      <td>19</td>\n",
       "      <td>15</td>\n",
       "      <td>39</td>\n",
       "    </tr>\n",
       "    <tr>\n",
       "      <th>1</th>\n",
       "      <td>2</td>\n",
       "      <td>Male</td>\n",
       "      <td>21</td>\n",
       "      <td>15</td>\n",
       "      <td>81</td>\n",
       "    </tr>\n",
       "    <tr>\n",
       "      <th>2</th>\n",
       "      <td>3</td>\n",
       "      <td>Female</td>\n",
       "      <td>20</td>\n",
       "      <td>16</td>\n",
       "      <td>6</td>\n",
       "    </tr>\n",
       "    <tr>\n",
       "      <th>3</th>\n",
       "      <td>4</td>\n",
       "      <td>Female</td>\n",
       "      <td>23</td>\n",
       "      <td>16</td>\n",
       "      <td>77</td>\n",
       "    </tr>\n",
       "    <tr>\n",
       "      <th>4</th>\n",
       "      <td>5</td>\n",
       "      <td>Female</td>\n",
       "      <td>31</td>\n",
       "      <td>17</td>\n",
       "      <td>40</td>\n",
       "    </tr>\n",
       "  </tbody>\n",
       "</table>\n",
       "</div>"
      ],
      "text/plain": [
       "   CustomerID  Gender  Age  Annual Income (k$)  Spending Score (1-100)\n",
       "0           1    Male   19                  15                      39\n",
       "1           2    Male   21                  15                      81\n",
       "2           3  Female   20                  16                       6\n",
       "3           4  Female   23                  16                      77\n",
       "4           5  Female   31                  17                      40"
      ]
     },
     "execution_count": 2,
     "metadata": {},
     "output_type": "execute_result"
    }
   ],
   "source": [
    "df = pd.read_csv('../Data_source/Mall_Customers.csv')\n",
    "df.head()"
   ]
  },
  {
   "cell_type": "markdown",
   "metadata": {},
   "source": [
    "해당 데이터셋을 이용해 '고객 세분화 분석'을 진행해 어떤 고객층에 집중하는 것이 좋을지 파악하고자 한다.\n",
    "\n",
    "일단 데이터셋 칼럼을 파악해보면 다음과 같다.\n",
    "- CustomerID: 고객 각각에게 부여된 unique ID\n",
    "- Gender: 성별\n",
    "- Age: 나이\n",
    "- Annual Income: 고객의 1년 수입(k$)\n",
    "- Spending Score(1-100): 고객의 소비 습관 혹은 방식을 근거로 해 마켓에서 부여한 점수\n",
    "\n",
    "#### 어떤 내용을 추출해볼 수 있을까?\n",
    "\n",
    "'Spending Score'를 기준으로 고객 segment를 어떻게 진행할 수 있을까?\n",
    "\n",
    "1. 고객 성별 분포\n",
    "2. 고객 나이 분포\n",
    "3. 고객 1년 수입 분포(countplot, hist)\n",
    "4. 고객 소비 점수 분포(countplot, hist)\n",
    "5. 요인별 상관관계 파악(연 수입이 높은 고객은 소비 점수도 높을까? 소비 점수가 높은 고객의 나이 분포는 어떠한가? 성별은 어떠한가? 등)\n",
    "6. 고객 세분화 분석(k-means algorithm)으로 어떻게 분류가 되는지 살펴보기 ==> 세분화된 결과 각 그룹별로 소비 점수 혹은 연 수입 혹은 나이는 어떠한지 비교하기, 비교를 통해 마케팅으로 어떻게 활용할 수 있을지 생각해보기"
   ]
  },
  {
   "cell_type": "code",
   "execution_count": 3,
   "metadata": {},
   "outputs": [
    {
     "data": {
      "text/html": [
       "<div>\n",
       "<style scoped>\n",
       "    .dataframe tbody tr th:only-of-type {\n",
       "        vertical-align: middle;\n",
       "    }\n",
       "\n",
       "    .dataframe tbody tr th {\n",
       "        vertical-align: top;\n",
       "    }\n",
       "\n",
       "    .dataframe thead th {\n",
       "        text-align: right;\n",
       "    }\n",
       "</style>\n",
       "<table border=\"1\" class=\"dataframe\">\n",
       "  <thead>\n",
       "    <tr style=\"text-align: right;\">\n",
       "      <th></th>\n",
       "      <th>CustomerID</th>\n",
       "      <th>Gender</th>\n",
       "      <th>Age</th>\n",
       "      <th>annualIncome</th>\n",
       "      <th>spendingScore</th>\n",
       "    </tr>\n",
       "  </thead>\n",
       "  <tbody>\n",
       "    <tr>\n",
       "      <th>0</th>\n",
       "      <td>1</td>\n",
       "      <td>Male</td>\n",
       "      <td>19</td>\n",
       "      <td>15</td>\n",
       "      <td>39</td>\n",
       "    </tr>\n",
       "    <tr>\n",
       "      <th>1</th>\n",
       "      <td>2</td>\n",
       "      <td>Male</td>\n",
       "      <td>21</td>\n",
       "      <td>15</td>\n",
       "      <td>81</td>\n",
       "    </tr>\n",
       "    <tr>\n",
       "      <th>2</th>\n",
       "      <td>3</td>\n",
       "      <td>Female</td>\n",
       "      <td>20</td>\n",
       "      <td>16</td>\n",
       "      <td>6</td>\n",
       "    </tr>\n",
       "    <tr>\n",
       "      <th>3</th>\n",
       "      <td>4</td>\n",
       "      <td>Female</td>\n",
       "      <td>23</td>\n",
       "      <td>16</td>\n",
       "      <td>77</td>\n",
       "    </tr>\n",
       "    <tr>\n",
       "      <th>4</th>\n",
       "      <td>5</td>\n",
       "      <td>Female</td>\n",
       "      <td>31</td>\n",
       "      <td>17</td>\n",
       "      <td>40</td>\n",
       "    </tr>\n",
       "    <tr>\n",
       "      <th>...</th>\n",
       "      <td>...</td>\n",
       "      <td>...</td>\n",
       "      <td>...</td>\n",
       "      <td>...</td>\n",
       "      <td>...</td>\n",
       "    </tr>\n",
       "    <tr>\n",
       "      <th>195</th>\n",
       "      <td>196</td>\n",
       "      <td>Female</td>\n",
       "      <td>35</td>\n",
       "      <td>120</td>\n",
       "      <td>79</td>\n",
       "    </tr>\n",
       "    <tr>\n",
       "      <th>196</th>\n",
       "      <td>197</td>\n",
       "      <td>Female</td>\n",
       "      <td>45</td>\n",
       "      <td>126</td>\n",
       "      <td>28</td>\n",
       "    </tr>\n",
       "    <tr>\n",
       "      <th>197</th>\n",
       "      <td>198</td>\n",
       "      <td>Male</td>\n",
       "      <td>32</td>\n",
       "      <td>126</td>\n",
       "      <td>74</td>\n",
       "    </tr>\n",
       "    <tr>\n",
       "      <th>198</th>\n",
       "      <td>199</td>\n",
       "      <td>Male</td>\n",
       "      <td>32</td>\n",
       "      <td>137</td>\n",
       "      <td>18</td>\n",
       "    </tr>\n",
       "    <tr>\n",
       "      <th>199</th>\n",
       "      <td>200</td>\n",
       "      <td>Male</td>\n",
       "      <td>30</td>\n",
       "      <td>137</td>\n",
       "      <td>83</td>\n",
       "    </tr>\n",
       "  </tbody>\n",
       "</table>\n",
       "<p>200 rows × 5 columns</p>\n",
       "</div>"
      ],
      "text/plain": [
       "     CustomerID  Gender  Age  annualIncome  spendingScore\n",
       "0             1    Male   19            15             39\n",
       "1             2    Male   21            15             81\n",
       "2             3  Female   20            16              6\n",
       "3             4  Female   23            16             77\n",
       "4             5  Female   31            17             40\n",
       "..          ...     ...  ...           ...            ...\n",
       "195         196  Female   35           120             79\n",
       "196         197  Female   45           126             28\n",
       "197         198    Male   32           126             74\n",
       "198         199    Male   32           137             18\n",
       "199         200    Male   30           137             83\n",
       "\n",
       "[200 rows x 5 columns]"
      ]
     },
     "execution_count": 3,
     "metadata": {},
     "output_type": "execute_result"
    }
   ],
   "source": [
    "# 컬럼명 변경\n",
    "\n",
    "df=df.rename(columns={'Annual Income (k$)':'annualIncome', 'Spending Score (1-100)':'spendingScore'})\n",
    "df"
   ]
  },
  {
   "cell_type": "code",
   "execution_count": 4,
   "metadata": {},
   "outputs": [
    {
     "data": {
      "text/plain": [
       "CustomerID  Gender  Age    annualIncome  spendingScore\n",
       "False       False   False  False         False            200\n",
       "dtype: int64"
      ]
     },
     "execution_count": 4,
     "metadata": {},
     "output_type": "execute_result"
    }
   ],
   "source": [
    "# 누락값 파악\n",
    "df.isnull().value_counts()\n",
    "\n",
    "# 해당 데이터셋에는 누락값이 없음"
   ]
  },
  {
   "cell_type": "code",
   "execution_count": 5,
   "metadata": {},
   "outputs": [
    {
     "name": "stdout",
     "output_type": "stream",
     "text": [
      "Female    112\n",
      "Male       88\n",
      "Name: Gender, dtype: int64\n"
     ]
    },
    {
     "data": {
      "text/plain": [
       "Female    0.56\n",
       "Male      0.44\n",
       "Name: Gender, dtype: float64"
      ]
     },
     "execution_count": 5,
     "metadata": {},
     "output_type": "execute_result"
    }
   ],
   "source": [
    "# 1. 고객 성별 분포\n",
    "\n",
    "dist_gender = df['Gender'].value_counts()\n",
    "print(dist_gender)\n",
    "rate_gender = df['Gender'].value_counts(normalize=True)\n",
    "rate_gender"
   ]
  },
  {
   "cell_type": "markdown",
   "metadata": {},
   "source": [
    "총 200명의 고객 중 여성이 112명, 남성이 88명으로 구성되어 있다. "
   ]
  },
  {
   "cell_type": "code",
   "execution_count": 31,
   "metadata": {},
   "outputs": [
    {
     "data": {
      "text/plain": [
       "count    200.000000\n",
       "mean      38.850000\n",
       "std       13.969007\n",
       "min       18.000000\n",
       "25%       28.750000\n",
       "50%       36.000000\n",
       "75%       49.000000\n",
       "max       70.000000\n",
       "Name: Age, dtype: float64"
      ]
     },
     "execution_count": 31,
     "metadata": {},
     "output_type": "execute_result"
    }
   ],
   "source": [
    "# 2. 고객 나이 요약 통계\n",
    "\n",
    "stat_age = df['Age'].describe()\n",
    "stat_age"
   ]
  },
  {
   "cell_type": "code",
   "execution_count": 18,
   "metadata": {},
   "outputs": [
    {
     "data": {
      "image/png": "[encoded data removed]",
      "text/plain": [
       "<Figure size 576x432 with 1 Axes>"
      ]
     },
     "metadata": {
      "needs_background": "light"
     },
     "output_type": "display_data"
    }
   ],
   "source": [
    "# 2. 고객 나이 분포\n",
    "\n",
    "dist_age = df.hist(column='Age', bins=11, grid=False, figsize=(8,6), color='#86bf91', zorder=2, rwidth=0.9)\n",
    "# zorder는 앞으로, 뒤로 순서(중요성)를 정하는 파라미터\n",
    "\n",
    "dist_age = dist_age[0]\n",
    "for x in dist_age:\n",
    "    \n",
    "    # plot 축 지우기\n",
    "    x.spines['right'].set_visible(False)\n",
    "    x.spines['top'].set_visible(False)\n",
    "    x.spines['left'].set_visible(False)\n",
    "    \n",
    "    # 축의 값 설정\n",
    "    x.tick_params(axis='both', which='both', left=False, colors='#283906')\n",
    "    \n",
    "    # 수평선 그리기\n",
    "    vals = x.get_yticks()\n",
    "    for tick in vals:\n",
    "        x.axhline(y=tick, linestyle='dashed', alpha=0.4, color=\"#eeeeee\", zorder=1)\n",
    "        \n",
    "    # 타이틀 설정\n",
    "    x.set_title(\"\")\n",
    "    \n",
    "    # x축 라벨 설정\n",
    "    x.set_xlabel(\"Age\", labelpad=20, weight='bold', size=12)\n",
    "    \n",
    "    # y축 라벨 설정\n",
    "    x.set_ylabel(\"Count\", labelpad=20, weight='bold', size=12)"
   ]
  },
  {
   "cell_type": "markdown",
   "metadata": {},
   "source": [
    "200명의 고객 나이를 11개의 군집으로 나눴고, 18-70세까의 나이로 구성되어 있다. 위의 히스토그램을 살펴보면,\n",
    "- 30세를 전후로 한 그룹에 가장 많은 고객들이 포함되어 있고, 이후로 20세 전후, 40대 후반부터 50대 초반까지의 그룹으로 이어진다.\n",
    "- 20대 ~ 30대의 고객군이 가장 많은 비중을 차지하고 있음을 알 수 있다.\n",
    "- 60대의 고객군이 가장 수가 적다.\n",
    "\n",
    "** 11개의 군집으로 나눈 이유는 10살을 기준으로 각 세대를 나눴을 때 10대 ~ 60대까지 총 6개의 그룹으로 나눌 수 있는데, 10대의 경우 18, 19살만 있어 한 그룹으로 보고 나머지 5개 세대의 그룹은 2그룹씩 나눴다. 그래서 총 11개의 군집으로 히스토그램을 만들었다."
   ]
  },
  {
   "cell_type": "code",
   "execution_count": 30,
   "metadata": {},
   "outputs": [
    {
     "data": {
      "text/plain": [
       "count    200.000000\n",
       "mean      60.560000\n",
       "std       26.264721\n",
       "min       15.000000\n",
       "25%       41.500000\n",
       "50%       61.500000\n",
       "75%       78.000000\n",
       "max      137.000000\n",
       "Name: annualIncome, dtype: float64"
      ]
     },
     "execution_count": 30,
     "metadata": {},
     "output_type": "execute_result"
    }
   ],
   "source": [
    "# 3. 고객 1년 수입 요약통계\n",
    "\n",
    "stat_income = df['annualIncome'].describe()\n",
    "stat_income"
   ]
  },
  {
   "cell_type": "code",
   "execution_count": 32,
   "metadata": {},
   "outputs": [
    {
     "data": {
      "image/png": "[encoded data removed]",
      "text/plain": [
       "<Figure size 720x576 with 1 Axes>"
      ]
     },
     "metadata": {
      "needs_background": "light"
     },
     "output_type": "display_data"
    }
   ],
   "source": [
    "# 3. 고객 연 수입(k$) 분포\n",
    "\n",
    "dist_income = df.hist(column='annualIncome', bins=32, grid=False, figsize=(10,8), color='#AB9BD7', zorder=2, rwidth=0.9)\n",
    "# zorder는 앞으로, 뒤로 순서(중요성)를 정하는 파라미터\n",
    "\n",
    "dist_income = dist_income[0]\n",
    "for x in dist_income:\n",
    "    \n",
    "    # plot 축 지우기\n",
    "    x.spines['right'].set_visible(False)\n",
    "    x.spines['top'].set_visible(False)\n",
    "    x.spines['left'].set_visible(False)\n",
    "    \n",
    "    # 축의 값 설정\n",
    "    x.tick_params(axis='both', which='both', left=False, colors='#283906')\n",
    "    \n",
    "    # 수평선 그리기\n",
    "    vals = x.get_yticks()\n",
    "    for tick in vals:\n",
    "        x.axhline(y=tick, linestyle='dashed', alpha=0.4, color=\"#eeeeee\", zorder=1)\n",
    "        \n",
    "    # 타이틀 설정\n",
    "    x.set_title(\"\")\n",
    "    \n",
    "    # x축 라벨 설정\n",
    "    x.set_xlabel(\"Annual Income(K$)\", labelpad=20, weight='bold', size=12)\n",
    "    \n",
    "    # y축 라벨 설정\n",
    "    x.set_ylabel(\"Count\", labelpad=20, weight='bold', size=12)"
   ]
  },
  {
   "cell_type": "code",
   "execution_count": 35,
   "metadata": {},
   "outputs": [
    {
     "data": {
      "text/plain": [
       "count    200.000000\n",
       "mean      50.200000\n",
       "std       25.823522\n",
       "min        1.000000\n",
       "25%       34.750000\n",
       "50%       50.000000\n",
       "75%       73.000000\n",
       "max       99.000000\n",
       "Name: spendingScore, dtype: float64"
      ]
     },
     "execution_count": 35,
     "metadata": {},
     "output_type": "execute_result"
    }
   ],
   "source": [
    "# 4. 고객 소비 점수 요약 통계\n",
    "\n",
    "stat_score = df['spendingScore'].describe()\n",
    "stat_score"
   ]
  },
  {
   "cell_type": "code",
   "execution_count": 40,
   "metadata": {},
   "outputs": [
    {
     "data": {
      "image/png": "[encoded data removed]",
      "text/plain": [
       "<Figure size 720x576 with 1 Axes>"
      ]
     },
     "metadata": {
      "needs_background": "light"
     },
     "output_type": "display_data"
    }
   ],
   "source": [
    "# 4. 고객 소비 점수 분포\n",
    "\n",
    "dist_score = df.hist(column='spendingScore', bins=20, grid=False, figsize=(10,8), color='#81C8D2', zorder=2, rwidth=0.9)\n",
    "# zorder는 앞으로, 뒤로 순서(중요성)를 정하는 파라미터\n",
    "\n",
    "dist_score = dist_score[0]\n",
    "for x in dist_score:\n",
    "    \n",
    "    # plot 축 지우기\n",
    "    x.spines['right'].set_visible(False)\n",
    "    x.spines['top'].set_visible(False)\n",
    "    x.spines['left'].set_visible(False)\n",
    "    \n",
    "    # 축의 값 설정\n",
    "    x.tick_params(axis='both', which='both', left=False, colors='#283906')\n",
    "    \n",
    "    # 수평선 그리기\n",
    "    vals = x.get_yticks()\n",
    "    for tick in vals:\n",
    "        x.axhline(y=tick, linestyle='dashed', alpha=0.4, color=\"#eeeeee\", zorder=1)\n",
    "        \n",
    "    # 타이틀 설정\n",
    "    x.set_title(\"\")\n",
    "    \n",
    "    # x축 라벨 설정\n",
    "    x.set_xlabel(\"Spending Score (1-100)\", labelpad=20, weight='bold', size=12)\n",
    "    \n",
    "    # y축 라벨 설정\n",
    "    x.set_ylabel(\"Count\", labelpad=20, weight='bold', size=12)"
   ]
  },
  {
   "cell_type": "code",
   "execution_count": null,
   "metadata": {},
   "outputs": [],
   "source": []
  }
 ],
 "metadata": {
  "kernelspec": {
   "display_name": "Python 3",
   "language": "python",
   "name": "python3"
  },
  "language_info": {
   "codemirror_mode": {
    "name": "ipython",
    "version": 3
   },
   "file_extension": ".py",
   "mimetype": "text/x-python",
   "name": "python",
   "nbconvert_exporter": "python",
   "pygments_lexer": "ipython3",
   "version": "3.8.5"
  }
 },
 "nbformat": 4,
 "nbformat_minor": 4
}
